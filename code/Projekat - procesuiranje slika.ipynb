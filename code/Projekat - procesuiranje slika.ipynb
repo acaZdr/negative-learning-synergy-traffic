{
 "cells": [
  {
   "cell_type": "code",
   "execution_count": 31,
   "metadata": {},
   "outputs": [],
   "source": [
    "import numpy as np\n",
    "import pandas as pd\n",
    "import matplotlib.pyplot as plt\n",
    "from PIL import Image\n",
    "import os\n",
    "import torch\n",
    "import torchvision\n",
    "import torch.nn as nn\n",
    "import torch.optim as optim\n",
    "from torch.utils.data import Dataset, DataLoader"
   ]
  },
  {
   "cell_type": "code",
   "execution_count": 32,
   "metadata": {},
   "outputs": [],
   "source": [
    "trainPath = \"../data/Train.csv\"\n",
    "testPath = \"../data/Test.csv\"\n",
    "metaPath = \"../data/Meta.csv\"\n",
    "\n",
    "trainCSV = pd.read_csv(trainPath)\n",
    "testCSV = pd.read_csv(testPath)\n",
    "metaCSV = pd.read_csv(metaPath)"
   ]
  },
  {
   "cell_type": "code",
   "execution_count": 33,
   "metadata": {},
   "outputs": [
    {
     "data": {
      "text/html": [
       "<div>\n",
       "<style scoped>\n",
       "    .dataframe tbody tr th:only-of-type {\n",
       "        vertical-align: middle;\n",
       "    }\n",
       "\n",
       "    .dataframe tbody tr th {\n",
       "        vertical-align: top;\n",
       "    }\n",
       "\n",
       "    .dataframe thead th {\n",
       "        text-align: right;\n",
       "    }\n",
       "</style>\n",
       "<table border=\"1\" class=\"dataframe\">\n",
       "  <thead>\n",
       "    <tr style=\"text-align: right;\">\n",
       "      <th></th>\n",
       "      <th>Path</th>\n",
       "      <th>ClassId</th>\n",
       "      <th>ShapeId</th>\n",
       "      <th>ColorId</th>\n",
       "      <th>SignId</th>\n",
       "    </tr>\n",
       "  </thead>\n",
       "  <tbody>\n",
       "    <tr>\n",
       "      <th>0</th>\n",
       "      <td>Meta/27.png</td>\n",
       "      <td>27</td>\n",
       "      <td>0</td>\n",
       "      <td>0</td>\n",
       "      <td>1.32</td>\n",
       "    </tr>\n",
       "    <tr>\n",
       "      <th>1</th>\n",
       "      <td>Meta/0.png</td>\n",
       "      <td>0</td>\n",
       "      <td>1</td>\n",
       "      <td>0</td>\n",
       "      <td>3.29</td>\n",
       "    </tr>\n",
       "    <tr>\n",
       "      <th>2</th>\n",
       "      <td>Meta/1.png</td>\n",
       "      <td>1</td>\n",
       "      <td>1</td>\n",
       "      <td>0</td>\n",
       "      <td>3.29</td>\n",
       "    </tr>\n",
       "    <tr>\n",
       "      <th>3</th>\n",
       "      <td>Meta/10.png</td>\n",
       "      <td>10</td>\n",
       "      <td>1</td>\n",
       "      <td>0</td>\n",
       "      <td>3.27</td>\n",
       "    </tr>\n",
       "    <tr>\n",
       "      <th>4</th>\n",
       "      <td>Meta/11.png</td>\n",
       "      <td>11</td>\n",
       "      <td>0</td>\n",
       "      <td>0</td>\n",
       "      <td>1.22</td>\n",
       "    </tr>\n",
       "  </tbody>\n",
       "</table>\n",
       "</div>"
      ],
      "text/plain": [
       "          Path  ClassId  ShapeId  ColorId SignId\n",
       "0  Meta/27.png       27        0        0   1.32\n",
       "1   Meta/0.png        0        1        0   3.29\n",
       "2   Meta/1.png        1        1        0   3.29\n",
       "3  Meta/10.png       10        1        0   3.27\n",
       "4  Meta/11.png       11        0        0   1.22"
      ]
     },
     "execution_count": 33,
     "metadata": {},
     "output_type": "execute_result"
    }
   ],
   "source": [
    "metaCSV.head()"
   ]
  },
  {
   "cell_type": "code",
   "execution_count": 34,
   "metadata": {},
   "outputs": [],
   "source": [
    "trainCSV = trainCSV[['Width', 'Height', 'ClassId', 'Path']]\n",
    "testCSV = testCSV[['Width', 'Height', 'ClassId', 'Path']]\n",
    "metaCSV = metaCSV[['Path', 'ClassId']]"
   ]
  },
  {
   "cell_type": "code",
   "execution_count": 35,
   "metadata": {},
   "outputs": [],
   "source": [
    "pathToData = \"../data/\"\n",
    "targetPictureSize = (32, 32)"
   ]
  },
  {
   "cell_type": "code",
   "execution_count": 36,
   "metadata": {},
   "outputs": [],
   "source": [
    "resized_images = []\n",
    "image_classes = []\n",
    "\n",
    "# Iterate over the rows of the DataFrame\n",
    "for index, row in trainCSV.iterrows():\n",
    "    # Extract the file path and class label from the DataFrame\n",
    "    file_path = pathToData + row[\"Path\"]  # Replace \"file_path_column_name\" with your actual column name\n",
    "    class_label = int(row[\"ClassId\"])  # Replace \"class_column_name\" with your actual column name\n",
    "    \n",
    "    # Check if the file path is valid and the file is a PNG image\n",
    "    if os.path.isfile(file_path) and file_path.endswith(\".png\"):\n",
    "        # Open the image\n",
    "        image = Image.open(file_path)\n",
    "        \n",
    "        # Convert the image to grayscale\n",
    "        grayscale_image = image.convert(\"L\")\n",
    "        \n",
    "        # Resize the grayscale image to 32x32 pixels\n",
    "        resized_image = grayscale_image.resize(targetPictureSize)\n",
    "        \n",
    "        # Transform the resized image into a PyTorch tensor\n",
    "        transform = torchvision.transforms.ToTensor()\n",
    "        tensor_image = transform(resized_image)\n",
    "        converted_tensor = tensor_image.permute(1, 2, 0)\n",
    "        \n",
    "        # Add the tensor and its corresponding class label to the lists\n",
    "        resized_images.append(converted_tensor)\n",
    "        image_classes.append(class_label)"
   ]
  },
  {
   "cell_type": "code",
   "execution_count": 37,
   "metadata": {},
   "outputs": [
    {
     "data": {
      "image/png": "[encoded data removed]",
      "text/plain": [
       "<Figure size 640x480 with 1 Axes>"
      ]
     },
     "metadata": {},
     "output_type": "display_data"
    }
   ],
   "source": [
    "example_image = resized_images[211]\n",
    "\n",
    "numpy_image = example_image.squeeze().numpy()\n",
    "\n",
    "# Display the image using matplotlib\n",
    "plt.imshow(numpy_image, cmap=\"gray\")\n",
    "plt.axis('off')\n",
    "plt.show()"
   ]
  },
  {
   "cell_type": "code",
   "execution_count": 10,
   "metadata": {},
   "outputs": [
    {
     "name": "stdout",
     "output_type": "stream",
     "text": [
      "torch.Size([39209])\n"
     ]
    }
   ],
   "source": [
    "try:\n",
    "    labels_tensor = torch.tensor(image_classes)\n",
    "    print(labels_tensor.shape)\n",
    "except:\n",
    "    print(\"Error while stacking the images\")"
   ]
  },
  {
   "cell_type": "code",
   "execution_count": 48,
   "metadata": {},
   "outputs": [
    {
     "ename": "TypeError",
     "evalue": "__init__() missing 1 required positional argument: 'kernel_size'",
     "output_type": "error",
     "traceback": [
      "\u001B[0;31m---------------------------------------------------------------------------\u001B[0m",
      "\u001B[0;31mTypeError\u001B[0m                                 Traceback (most recent call last)",
      "Cell \u001B[0;32mIn[48], line 43\u001B[0m\n\u001B[1;32m     40\u001B[0m noOfClasses \u001B[39m=\u001B[39m \u001B[39m43\u001B[39m\n\u001B[1;32m     42\u001B[0m \u001B[39m# Create an instance of your model\u001B[39;00m\n\u001B[0;32m---> 43\u001B[0m model \u001B[39m=\u001B[39m RegularNN(no_Of_Filters, size_of_Filter, size_of_Filter2, size_of_pool, no_Of_Nodes, noOfClasses)\n\u001B[1;32m     44\u001B[0m \u001B[39m# Print the model summary\u001B[39;00m\n\u001B[1;32m     45\u001B[0m \u001B[39mprint\u001B[39m(model)\n",
      "Cell \u001B[0;32mIn[48], line 5\u001B[0m, in \u001B[0;36mRegularNN.__init__\u001B[0;34m(self, no_Of_Filters, size_of_Filter, size_of_Filter2, size_of_pool, no_Of_Nodes, noOfClasses)\u001B[0m\n\u001B[1;32m      2\u001B[0m \u001B[39mdef\u001B[39;00m \u001B[39m__init__\u001B[39m(\u001B[39mself\u001B[39m, no_Of_Filters, size_of_Filter, size_of_Filter2, size_of_pool, no_Of_Nodes, noOfClasses):\n\u001B[1;32m      3\u001B[0m     \u001B[39msuper\u001B[39m(RegularNN, \u001B[39mself\u001B[39m)\u001B[39m.\u001B[39m\u001B[39m__init__\u001B[39m()\n\u001B[0;32m----> 5\u001B[0m     \u001B[39mself\u001B[39m\u001B[39m.\u001B[39mconv1 \u001B[39m=\u001B[39m nn\u001B[39m.\u001B[39;49mConv2d(no_Of_Filters, size_of_Filter)\n\u001B[1;32m      6\u001B[0m     \u001B[39mself\u001B[39m\u001B[39m.\u001B[39mconv2 \u001B[39m=\u001B[39m nn\u001B[39m.\u001B[39mConv2d(no_Of_Filters, no_Of_Filters, size_of_Filter)\n\u001B[1;32m      7\u001B[0m     \u001B[39mself\u001B[39m\u001B[39m.\u001B[39mpool \u001B[39m=\u001B[39m nn\u001B[39m.\u001B[39mMaxPool2d(size_of_pool)\n",
      "\u001B[0;31mTypeError\u001B[0m: __init__() missing 1 required positional argument: 'kernel_size'"
     ]
    }
   ],
   "source": [
    "class RegularNN(nn.Module):\n",
    "    def __init__(self, no_Of_Filters, size_of_Filter, size_of_Filter2, size_of_pool, no_Of_Nodes, noOfClasses):\n",
    "        super(RegularNN, self).__init__()\n",
    "        \n",
    "        self.conv1 = nn.Conv2d(1, no_Of_Filters, size_of_Filter)\n",
    "        self.conv2 = nn.Conv2d(no_Of_Filters, no_Of_Filters, size_of_Filter)\n",
    "        self.pool = nn.MaxPool2d(size_of_pool)\n",
    "        self.conv3 = nn.Conv2d(no_Of_Filters, no_Of_Filters // 2, size_of_Filter2)\n",
    "        self.conv4 = nn.Conv2d(no_Of_Filters // 2, no_Of_Filters // 2, size_of_Filter2)\n",
    "        self.dropout = nn.Dropout(0.5)\n",
    "        self.fc1 = nn.Linear(no_Of_Filters // 2 * 8 * 8, no_Of_Nodes)\n",
    "        self.fc2 = nn.Linear(no_Of_Nodes, noOfClasses)\n",
    "\n",
    "    def forward(self, x):\n",
    "        batch_size = x.size(0)\n",
    "        x = self.conv1(x)\n",
    "        x = nn.ReLU()(x)\n",
    "        x = self.conv2(x)\n",
    "        x = nn.ReLU()(x)\n",
    "        x = self.pool(x)\n",
    "        x = self.conv3(x)\n",
    "        x = nn.ReLU()(x)\n",
    "        x = self.conv4(x)\n",
    "        x = nn.ReLU()(x)\n",
    "        x = self.pool(x)\n",
    "        x = self.dropout(x)\n",
    "        x = x.view(batch_size, -1)\n",
    "        x = self.fc1(x)\n",
    "        x = nn.ReLU()(x)\n",
    "        x = self.dropout(x)\n",
    "        x = self.fc2(x)\n",
    "        return x\n",
    "\n",
    "# Define the model parameters\n",
    "no_Of_Filters = 60\n",
    "size_of_Filter = 5\n",
    "size_of_Filter2 = 3\n",
    "size_of_pool = 2\n",
    "no_Of_Nodes = 500\n",
    "noOfClasses = 43\n",
    "\n",
    "# Create an instance of your model\n",
    "model = RegularNN(no_Of_Filters, size_of_Filter, size_of_Filter2, size_of_pool, no_Of_Nodes, noOfClasses)\n",
    "# Print the model summary\n",
    "print(model)\n",
    "\n",
    "criterion = nn.CrossEntropyLoss()\n",
    "optimizer = torch.optim.Adam(model.parameters(), lr=0.001)"
   ]
  },
  {
   "cell_type": "code",
   "execution_count": 46,
   "metadata": {},
   "outputs": [],
   "source": [
    "class TrainDataset(Dataset):\n",
    "    def __init__(self, images, labels):\n",
    "        self.images = images\n",
    "        self.labels = labels\n",
    "    \n",
    "    def __len__(self):\n",
    "        return len(self.images)\n",
    "    \n",
    "    def __getitem__(self, idx):\n",
    "        image = self.images[idx]\n",
    "        label = self.labels[idx]\n",
    "        return image, label\n",
    "\n",
    "# Convert your lists of images and labels to tensors\n",
    "images_tensor = torch.stack(resized_images)\n",
    "labels_tensor = torch.tensor(image_classes)\n",
    "\n",
    "# Create an instance of your dataset\n",
    "dataset = TrainDataset(images_tensor, labels_tensor)\n",
    "\n",
    "# Set device to GPU if available, otherwise use CPU\n",
    "device = torch.device(\"cpu\")\n",
    "model.to(device)\n",
    "\n",
    "# Create a data loader\n",
    "batch_size = 32\n",
    "dataloader = DataLoader(dataset, batch_size=batch_size, shuffle=True)"
   ]
  },
  {
   "cell_type": "code",
   "execution_count": 47,
   "metadata": {},
   "outputs": [
    {
     "ename": "RuntimeError",
     "evalue": "Given groups=1, weight of size [60, 1, 5, 5], expected input[32, 32, 32, 1] to have 1 channels, but got 32 channels instead",
     "output_type": "error",
     "traceback": [
      "\u001B[0;31m---------------------------------------------------------------------------\u001B[0m",
      "\u001B[0;31mRuntimeError\u001B[0m                              Traceback (most recent call last)",
      "Cell \u001B[0;32mIn[47], line 13\u001B[0m\n\u001B[1;32m     10\u001B[0m optimizer\u001B[39m.\u001B[39mzero_grad()\n\u001B[1;32m     12\u001B[0m \u001B[39m# Forward pass\u001B[39;00m\n\u001B[0;32m---> 13\u001B[0m outputs \u001B[39m=\u001B[39m model(images)\n\u001B[1;32m     14\u001B[0m loss \u001B[39m=\u001B[39m criterion(outputs, labels)\n\u001B[1;32m     16\u001B[0m \u001B[39m# Backward pass and optimize\u001B[39;00m\n",
      "File \u001B[0;32m~/opt/anaconda3/envs/pytorch/lib/python3.9/site-packages/torch/nn/modules/module.py:1501\u001B[0m, in \u001B[0;36mModule._call_impl\u001B[0;34m(self, *args, **kwargs)\u001B[0m\n\u001B[1;32m   1496\u001B[0m \u001B[39m# If we don't have any hooks, we want to skip the rest of the logic in\u001B[39;00m\n\u001B[1;32m   1497\u001B[0m \u001B[39m# this function, and just call forward.\u001B[39;00m\n\u001B[1;32m   1498\u001B[0m \u001B[39mif\u001B[39;00m \u001B[39mnot\u001B[39;00m (\u001B[39mself\u001B[39m\u001B[39m.\u001B[39m_backward_hooks \u001B[39mor\u001B[39;00m \u001B[39mself\u001B[39m\u001B[39m.\u001B[39m_backward_pre_hooks \u001B[39mor\u001B[39;00m \u001B[39mself\u001B[39m\u001B[39m.\u001B[39m_forward_hooks \u001B[39mor\u001B[39;00m \u001B[39mself\u001B[39m\u001B[39m.\u001B[39m_forward_pre_hooks\n\u001B[1;32m   1499\u001B[0m         \u001B[39mor\u001B[39;00m _global_backward_pre_hooks \u001B[39mor\u001B[39;00m _global_backward_hooks\n\u001B[1;32m   1500\u001B[0m         \u001B[39mor\u001B[39;00m _global_forward_hooks \u001B[39mor\u001B[39;00m _global_forward_pre_hooks):\n\u001B[0;32m-> 1501\u001B[0m     \u001B[39mreturn\u001B[39;00m forward_call(\u001B[39m*\u001B[39;49margs, \u001B[39m*\u001B[39;49m\u001B[39m*\u001B[39;49mkwargs)\n\u001B[1;32m   1502\u001B[0m \u001B[39m# Do not call functions when jit is used\u001B[39;00m\n\u001B[1;32m   1503\u001B[0m full_backward_hooks, non_full_backward_hooks \u001B[39m=\u001B[39m [], []\n",
      "Cell \u001B[0;32mIn[45], line 15\u001B[0m, in \u001B[0;36mRegularNN.forward\u001B[0;34m(self, x)\u001B[0m\n\u001B[1;32m     14\u001B[0m \u001B[39mdef\u001B[39;00m \u001B[39mforward\u001B[39m(\u001B[39mself\u001B[39m, x):\n\u001B[0;32m---> 15\u001B[0m     x \u001B[39m=\u001B[39m \u001B[39mself\u001B[39;49m\u001B[39m.\u001B[39;49mconv1(x)\n\u001B[1;32m     16\u001B[0m     x \u001B[39m=\u001B[39m nn\u001B[39m.\u001B[39mReLU()(x)\n\u001B[1;32m     17\u001B[0m     x \u001B[39m=\u001B[39m \u001B[39mself\u001B[39m\u001B[39m.\u001B[39mconv2(x)\n",
      "File \u001B[0;32m~/opt/anaconda3/envs/pytorch/lib/python3.9/site-packages/torch/nn/modules/module.py:1501\u001B[0m, in \u001B[0;36mModule._call_impl\u001B[0;34m(self, *args, **kwargs)\u001B[0m\n\u001B[1;32m   1496\u001B[0m \u001B[39m# If we don't have any hooks, we want to skip the rest of the logic in\u001B[39;00m\n\u001B[1;32m   1497\u001B[0m \u001B[39m# this function, and just call forward.\u001B[39;00m\n\u001B[1;32m   1498\u001B[0m \u001B[39mif\u001B[39;00m \u001B[39mnot\u001B[39;00m (\u001B[39mself\u001B[39m\u001B[39m.\u001B[39m_backward_hooks \u001B[39mor\u001B[39;00m \u001B[39mself\u001B[39m\u001B[39m.\u001B[39m_backward_pre_hooks \u001B[39mor\u001B[39;00m \u001B[39mself\u001B[39m\u001B[39m.\u001B[39m_forward_hooks \u001B[39mor\u001B[39;00m \u001B[39mself\u001B[39m\u001B[39m.\u001B[39m_forward_pre_hooks\n\u001B[1;32m   1499\u001B[0m         \u001B[39mor\u001B[39;00m _global_backward_pre_hooks \u001B[39mor\u001B[39;00m _global_backward_hooks\n\u001B[1;32m   1500\u001B[0m         \u001B[39mor\u001B[39;00m _global_forward_hooks \u001B[39mor\u001B[39;00m _global_forward_pre_hooks):\n\u001B[0;32m-> 1501\u001B[0m     \u001B[39mreturn\u001B[39;00m forward_call(\u001B[39m*\u001B[39;49margs, \u001B[39m*\u001B[39;49m\u001B[39m*\u001B[39;49mkwargs)\n\u001B[1;32m   1502\u001B[0m \u001B[39m# Do not call functions when jit is used\u001B[39;00m\n\u001B[1;32m   1503\u001B[0m full_backward_hooks, non_full_backward_hooks \u001B[39m=\u001B[39m [], []\n",
      "File \u001B[0;32m~/opt/anaconda3/envs/pytorch/lib/python3.9/site-packages/torch/nn/modules/conv.py:463\u001B[0m, in \u001B[0;36mConv2d.forward\u001B[0;34m(self, input)\u001B[0m\n\u001B[1;32m    462\u001B[0m \u001B[39mdef\u001B[39;00m \u001B[39mforward\u001B[39m(\u001B[39mself\u001B[39m, \u001B[39minput\u001B[39m: Tensor) \u001B[39m-\u001B[39m\u001B[39m>\u001B[39m Tensor:\n\u001B[0;32m--> 463\u001B[0m     \u001B[39mreturn\u001B[39;00m \u001B[39mself\u001B[39;49m\u001B[39m.\u001B[39;49m_conv_forward(\u001B[39minput\u001B[39;49m, \u001B[39mself\u001B[39;49m\u001B[39m.\u001B[39;49mweight, \u001B[39mself\u001B[39;49m\u001B[39m.\u001B[39;49mbias)\n",
      "File \u001B[0;32m~/opt/anaconda3/envs/pytorch/lib/python3.9/site-packages/torch/nn/modules/conv.py:459\u001B[0m, in \u001B[0;36mConv2d._conv_forward\u001B[0;34m(self, input, weight, bias)\u001B[0m\n\u001B[1;32m    455\u001B[0m \u001B[39mif\u001B[39;00m \u001B[39mself\u001B[39m\u001B[39m.\u001B[39mpadding_mode \u001B[39m!=\u001B[39m \u001B[39m'\u001B[39m\u001B[39mzeros\u001B[39m\u001B[39m'\u001B[39m:\n\u001B[1;32m    456\u001B[0m     \u001B[39mreturn\u001B[39;00m F\u001B[39m.\u001B[39mconv2d(F\u001B[39m.\u001B[39mpad(\u001B[39minput\u001B[39m, \u001B[39mself\u001B[39m\u001B[39m.\u001B[39m_reversed_padding_repeated_twice, mode\u001B[39m=\u001B[39m\u001B[39mself\u001B[39m\u001B[39m.\u001B[39mpadding_mode),\n\u001B[1;32m    457\u001B[0m                     weight, bias, \u001B[39mself\u001B[39m\u001B[39m.\u001B[39mstride,\n\u001B[1;32m    458\u001B[0m                     _pair(\u001B[39m0\u001B[39m), \u001B[39mself\u001B[39m\u001B[39m.\u001B[39mdilation, \u001B[39mself\u001B[39m\u001B[39m.\u001B[39mgroups)\n\u001B[0;32m--> 459\u001B[0m \u001B[39mreturn\u001B[39;00m F\u001B[39m.\u001B[39;49mconv2d(\u001B[39minput\u001B[39;49m, weight, bias, \u001B[39mself\u001B[39;49m\u001B[39m.\u001B[39;49mstride,\n\u001B[1;32m    460\u001B[0m                 \u001B[39mself\u001B[39;49m\u001B[39m.\u001B[39;49mpadding, \u001B[39mself\u001B[39;49m\u001B[39m.\u001B[39;49mdilation, \u001B[39mself\u001B[39;49m\u001B[39m.\u001B[39;49mgroups)\n",
      "\u001B[0;31mRuntimeError\u001B[0m: Given groups=1, weight of size [60, 1, 5, 5], expected input[32, 32, 32, 1] to have 1 channels, but got 32 channels instead"
     ]
    }
   ],
   "source": [
    "# Training loop\n",
    "epochs = 10\n",
    "for epoch in range(epochs):\n",
    "    running_loss = 0.0\n",
    "    for images, labels in dataloader:\n",
    "        images = images.to(device)\n",
    "        labels = labels.to(device)\n",
    "        \n",
    "        # Zero the parameter gradients\n",
    "        optimizer.zero_grad()\n",
    "        \n",
    "        # Forward pass\n",
    "        outputs = model(images)\n",
    "        loss = criterion(outputs, labels)\n",
    "        \n",
    "        # Backward pass and optimize\n",
    "        loss.backward()\n",
    "        optimizer.step()\n",
    "        \n",
    "        # Accumulate the loss\n",
    "        running_loss += loss.item()\n",
    "    \n",
    "    # Calculate average loss for the epoch\n",
    "    epoch_loss = running_loss / len(dataloader)\n",
    "    print(f\"Epoch [{epoch+1}/{epochs}], Loss: {epoch_loss:.4f}\")\n",
    "\n",
    "# Save the trained model\n",
    "#torch.save(model.state_dict(), \"trained_model.pth\")"
   ]
  }
 ],
 "metadata": {
  "kernelspec": {
   "display_name": "pytorch",
   "language": "python",
   "name": "python3"
  },
  "language_info": {
   "codemirror_mode": {
    "name": "ipython",
    "version": 3
   },
   "file_extension": ".py",
   "mimetype": "text/x-python",
   "name": "python",
   "nbconvert_exporter": "python",
   "pygments_lexer": "ipython3",
   "version": "3.9.16"
  },
  "orig_nbformat": 4
 },
 "nbformat": 4,
 "nbformat_minor": 2
}
